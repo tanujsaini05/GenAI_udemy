{
 "cells": [
  {
   "cell_type": "markdown",
   "metadata": {},
   "source": [
    "# Hi!\n",
    "\n",
    "Let's get start with OOPs here we go with the Classes and Objects"
   ]
  },
  {
   "cell_type": "code",
   "execution_count": 13,
   "metadata": {},
   "outputs": [],
   "source": [
    "class Car:\n",
    "    def __init__(self, name, doors, fuel):\n",
    "        self.name = name\n",
    "        self.doors = doors\n",
    "        self.fuel = fuel\n",
    "\n",
    "    def fueltype(self):\n",
    "        print(\"Here is the fuel type: \", self.fuel)\n",
    "\n",
    "\n",
    "\n"
   ]
  },
  {
   "cell_type": "code",
   "execution_count": 14,
   "metadata": {},
   "outputs": [],
   "source": [
    "obj = Car(\"MG\",4,\"Electricity\")"
   ]
  },
  {
   "cell_type": "code",
   "execution_count": 15,
   "metadata": {},
   "outputs": [
    {
     "data": {
      "text/plain": [
       "'MG'"
      ]
     },
     "execution_count": 15,
     "metadata": {},
     "output_type": "execute_result"
    }
   ],
   "source": [
    "obj.name"
   ]
  },
  {
   "cell_type": "code",
   "execution_count": 16,
   "metadata": {},
   "outputs": [
    {
     "data": {
      "text/plain": [
       "4"
      ]
     },
     "execution_count": 16,
     "metadata": {},
     "output_type": "execute_result"
    }
   ],
   "source": [
    "obj.doors"
   ]
  },
  {
   "cell_type": "code",
   "execution_count": 19,
   "metadata": {},
   "outputs": [
    {
     "name": "stdout",
     "output_type": "stream",
     "text": [
      "Here is the fuel type:  Electricity\n"
     ]
    }
   ],
   "source": [
    "obj.fueltype()"
   ]
  },
  {
   "cell_type": "markdown",
   "metadata": {},
   "source": [
    "# Inheritance\n",
    "\n",
    "A subclass that inherits from the 'Car' class and adds new properties or methods."
   ]
  },
  {
   "cell_type": "code",
   "execution_count": 40,
   "metadata": {},
   "outputs": [],
   "source": [
    "class Electricity(Car):\n",
    "    def __init__(self, name, doors, battery_capacity):\n",
    "        # Corrected the typo in __init__ and fixed the super() call\n",
    "        super().__init__(name, doors, 'Electricity')\n",
    "        self.battery_capacity = battery_capacity\n",
    "\n",
    "    def battery_info(self):\n",
    "        print(f\"Battery Capacity: {self.battery_capacity} KWh\")\n",
    "    def car_sound(self):\n",
    "        print(\"No Sound\")"
   ]
  },
  {
   "cell_type": "code",
   "execution_count": 41,
   "metadata": {},
   "outputs": [],
   "source": [
    "class Petrol(Car):\n",
    "    def __init__(self,name,doors,Fuelcapacity):\n",
    "        super().__init__(self,name,doors)\n",
    "        self.Fuelcapacity = Fuelcapacity\n",
    "    def car_sound(self):\n",
    "        print('Vroom')"
   ]
  },
  {
   "cell_type": "code",
   "execution_count": 42,
   "metadata": {},
   "outputs": [],
   "source": [
    "EV= Electricity(\"EVM\",4,100)"
   ]
  },
  {
   "cell_type": "code",
   "execution_count": 43,
   "metadata": {},
   "outputs": [
    {
     "name": "stdout",
     "output_type": "stream",
     "text": [
      "Battery Capacity: 100 KWh\n"
     ]
    }
   ],
   "source": [
    "EV.battery_info()"
   ]
  },
  {
   "cell_type": "code",
   "execution_count": 44,
   "metadata": {},
   "outputs": [],
   "source": [
    "petrol = Petrol('Verna',4,50)"
   ]
  },
  {
   "cell_type": "code",
   "execution_count": 45,
   "metadata": {},
   "outputs": [
    {
     "name": "stdout",
     "output_type": "stream",
     "text": [
      "Vroom\n"
     ]
    }
   ],
   "source": [
    "petrol.car_sound()"
   ]
  },
  {
   "cell_type": "code",
   "execution_count": 46,
   "metadata": {},
   "outputs": [
    {
     "name": "stdout",
     "output_type": "stream",
     "text": [
      "No Sound\n"
     ]
    }
   ],
   "source": [
    "EV.car_sound()"
   ]
  },
  {
   "cell_type": "markdown",
   "metadata": {},
   "source": [
    "# Note \n",
    "\n",
    "Above we have done inheritance using overidding"
   ]
  },
  {
   "cell_type": "code",
   "execution_count": null,
   "metadata": {},
   "outputs": [],
   "source": []
  }
 ],
 "metadata": {
  "kernelspec": {
   "display_name": "Python 3",
   "language": "python",
   "name": "python3"
  },
  "language_info": {
   "codemirror_mode": {
    "name": "ipython",
    "version": 3
   },
   "file_extension": ".py",
   "mimetype": "text/x-python",
   "name": "python",
   "nbconvert_exporter": "python",
   "pygments_lexer": "ipython3",
   "version": "3.9.0"
  }
 },
 "nbformat": 4,
 "nbformat_minor": 2
}
