{
 "cells": [
  {
   "cell_type": "code",
   "execution_count": 1,
   "metadata": {},
   "outputs": [
    {
     "name": "stdout",
     "output_type": "stream",
     "text": [
      "Hello\n"
     ]
    }
   ],
   "source": [
    "print('Hello')"
   ]
  },
  {
   "cell_type": "code",
   "execution_count": null,
   "metadata": {},
   "outputs": [],
   "source": [
    "with open('Hi.txt','w') as File:\n",
    "    File.write('''\n",
    "Hello! this is tanuj and we are here to practice some files handling using python \n",
    "               so just don't ignore this part cause everything is important bhai.''')\n",
    "    \n",
    "    File.close()"
   ]
  },
  {
   "cell_type": "code",
   "execution_count": 7,
   "metadata": {},
   "outputs": [],
   "source": [
    "with open('Hi.txt','a') as File:\n",
    "    File.write('I will give my best in this life so taht no one can beat me.')\n",
    "    File.close()\n",
    "    "
   ]
  },
  {
   "cell_type": "code",
   "execution_count": 8,
   "metadata": {},
   "outputs": [],
   "source": [
    "lines=[\"\\n just Do your work \\n\",'You can do everything\\n',\" Just do what you like \\n\"]\n",
    "with open('Hi.txt','a') as File:\n",
    "    for i in lines:\n",
    "        File.write(i)\n",
    "\n",
    "        ## another way can be File.writelines(lines)\n",
    "    File.close()"
   ]
  },
  {
   "cell_type": "code",
   "execution_count": 1,
   "metadata": {},
   "outputs": [],
   "source": [
    "## binary Files\n",
    "\n",
    "data=b'\\x00\\x01\\x03\\x04'\n",
    "with open('example.bin','wb') as File:\n",
    "    content=File.write(data)\n",
    "    File.close()"
   ]
  },
  {
   "cell_type": "code",
   "execution_count": 2,
   "metadata": {},
   "outputs": [
    {
     "name": "stdout",
     "output_type": "stream",
     "text": [
      "b'\\x00\\x01\\x03\\x04'\n"
     ]
    }
   ],
   "source": [
    "with open('example.bin','rb') as File:\n",
    "    content= File.read()\n",
    "    print(content)\n",
    "    File.close()"
   ]
  },
  {
   "cell_type": "code",
   "execution_count": 3,
   "metadata": {},
   "outputs": [],
   "source": [
    "# there are many others mode you can try to open a file like r+,w+ and many more"
   ]
  },
  {
   "cell_type": "code",
   "execution_count": 1,
   "metadata": {},
   "outputs": [
    {
     "name": "stdout",
     "output_type": "stream",
     "text": [
      "\n",
      "Hello! this is tanuj and we are here to practice some files handling using python \n",
      "               so just don't ignore this part cause everything is important bhai.I will give my best in this life so taht no one can beat me.I will give my best in this life so taht no one can beat me.\n",
      " just Do your work \n",
      "You can do everything\n",
      " Just do what you like \n",
      "Hello\n",
      "Just do it\n",
      "\n"
     ]
    }
   ],
   "source": [
    "with open('Hi.txt','a+') as File:\n",
    "    File.write('Hello\\n')\n",
    "    File.write('Just do it\\n')\n",
    "    File.seek(0)\n",
    "    print(File.read())\n"
   ]
  },
  {
   "cell_type": "code",
   "execution_count": null,
   "metadata": {},
   "outputs": [],
   "source": []
  }
 ],
 "metadata": {
  "kernelspec": {
   "display_name": "Python 3",
   "language": "python",
   "name": "python3"
  },
  "language_info": {
   "codemirror_mode": {
    "name": "ipython",
    "version": 3
   },
   "file_extension": ".py",
   "mimetype": "text/x-python",
   "name": "python",
   "nbconvert_exporter": "python",
   "pygments_lexer": "ipython3",
   "version": "3.9.0"
  }
 },
 "nbformat": 4,
 "nbformat_minor": 2
}
