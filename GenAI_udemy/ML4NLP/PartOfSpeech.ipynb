{
 "cells": [
  {
   "cell_type": "code",
   "execution_count": 1,
   "metadata": {},
   "outputs": [],
   "source": [
    "import nltk"
   ]
  },
  {
   "cell_type": "code",
   "execution_count": 3,
   "metadata": {},
   "outputs": [],
   "source": [
    "para='''A.P.J. Abdul Kalam (born October 15, 1931, Rameswaram, India—died July 27, 2015, Shillong) was an Indian scientist and politician who played a leading role in the development of India’s missile and nuclear weapons programs. He was president of India from 2002 to 2007.\n",
    "\n",
    "Kalam earned a degree in aeronautical engineering from the Madras Institute of Technology and in 1958 joined the Defence Research and Development Organisation (DRDO). In 1969 he moved to the Indian Space Research Organisation, where he was project director of the SLV-III, the first satellite launch vehicle that was both designed and produced in India. Rejoining DRDO in 1982, Kalam planned the program that produced a number of successful missiles, which helped earn him the nickname “Missile Man.” Among those successes was Agni, India’s first intermediate-range ballistic missile, which incorporated aspects of the SLV-III and was launched in 1989.'''"
   ]
  },
  {
   "cell_type": "code",
   "execution_count": 4,
   "metadata": {},
   "outputs": [],
   "source": [
    "sent= nltk.sent_tokenize(para)"
   ]
  },
  {
   "cell_type": "code",
   "execution_count": 5,
   "metadata": {},
   "outputs": [
    {
     "data": {
      "text/plain": [
       "['A.P.J.',\n",
       " 'Abdul Kalam (born October 15, 1931, Rameswaram, India—died July 27, 2015, Shillong) was an Indian scientist and politician who played a leading role in the development of India’s missile and nuclear weapons programs.',\n",
       " 'He was president of India from 2002 to 2007.',\n",
       " 'Kalam earned a degree in aeronautical engineering from the Madras Institute of Technology and in 1958 joined the Defence Research and Development Organisation (DRDO).',\n",
       " 'In 1969 he moved to the Indian Space Research Organisation, where he was project director of the SLV-III, the first satellite launch vehicle that was both designed and produced in India.',\n",
       " 'Rejoining DRDO in 1982, Kalam planned the program that produced a number of successful missiles, which helped earn him the nickname “Missile Man.” Among those successes was Agni, India’s first intermediate-range ballistic missile, which incorporated aspects of the SLV-III and was launched in 1989.']"
      ]
     },
     "execution_count": 5,
     "metadata": {},
     "output_type": "execute_result"
    }
   ],
   "source": [
    "sent"
   ]
  },
  {
   "cell_type": "code",
   "execution_count": 6,
   "metadata": {},
   "outputs": [],
   "source": [
    "# we will find the pos tag\n",
    "\n"
   ]
  },
  {
   "cell_type": "code",
   "execution_count": 7,
   "metadata": {},
   "outputs": [],
   "source": [
    "from nltk.corpus import stopwords"
   ]
  },
  {
   "cell_type": "code",
   "execution_count": 9,
   "metadata": {},
   "outputs": [
    {
     "name": "stdout",
     "output_type": "stream",
     "text": [
      "[('A.P.J', 'NNP'), ('.', '.')]\n",
      "[('Abdul', 'NNP'), ('Kalam', 'NNP'), ('(', '('), ('born', 'JJ'), ('October', 'NNP'), ('15', 'CD'), (',', ','), ('1931', 'CD'), (',', ','), ('Rameswaram', 'NNP'), (',', ','), ('India—died', 'NNP'), ('July', 'NNP'), ('27', 'CD'), (',', ','), ('2015', 'CD'), (',', ','), ('Shillong', 'NNP'), (')', ')'), ('Indian', 'JJ'), ('scientist', 'NN'), ('politician', 'NN'), ('played', 'VBD'), ('leading', 'VBG'), ('role', 'NN'), ('development', 'NN'), ('India', 'NNP'), ('’', 'NNP'), ('missile', 'NN'), ('nuclear', 'JJ'), ('weapons', 'NNS'), ('programs', 'NNS'), ('.', '.')]\n",
      "[('He', 'PRP'), ('president', 'NN'), ('India', 'NNP'), ('2002', 'CD'), ('2007', 'CD'), ('.', '.')]\n",
      "[('Kalam', 'NNP'), ('earned', 'VBD'), ('degree', 'JJ'), ('aeronautical', 'JJ'), ('engineering', 'NN'), ('Madras', 'NNP'), ('Institute', 'NNP'), ('Technology', 'NNP'), ('1958', 'CD'), ('joined', 'VBD'), ('Defence', 'NNP'), ('Research', 'NNP'), ('Development', 'NNP'), ('Organisation', 'NNP'), ('(', '('), ('DRDO', 'NNP'), (')', ')'), ('.', '.')]\n",
      "[('In', 'IN'), ('1969', 'CD'), ('moved', 'VBD'), ('Indian', 'JJ'), ('Space', 'NNP'), ('Research', 'NNP'), ('Organisation', 'NNP'), (',', ','), ('project', 'NN'), ('director', 'NN'), ('SLV-III', 'NNP'), (',', ','), ('first', 'RB'), ('satellite', 'JJ'), ('launch', 'NN'), ('vehicle', 'NN'), ('designed', 'VBN'), ('produced', 'VBN'), ('India', 'NNP'), ('.', '.')]\n",
      "[('Rejoining', 'VBG'), ('DRDO', 'NNP'), ('1982', 'CD'), (',', ','), ('Kalam', 'NNP'), ('planned', 'VBD'), ('program', 'NN'), ('produced', 'VBN'), ('number', 'NN'), ('successful', 'JJ'), ('missiles', 'NNS'), (',', ','), ('helped', 'VBD'), ('earn', 'VB'), ('nickname', 'JJ'), ('“', 'NNP'), ('Missile', 'NNP'), ('Man', 'NNP'), ('.', '.'), ('”', 'NN'), ('Among', 'IN'), ('successes', 'NNS'), ('Agni', 'NNP'), (',', ','), ('India', 'NNP'), ('’', 'NNP'), ('first', 'RB'), ('intermediate-range', 'JJ'), ('ballistic', 'JJ'), ('missile', 'NN'), (',', ','), ('incorporated', 'JJ'), ('aspects', 'NNS'), ('SLV-III', 'RB'), ('launched', 'JJ'), ('1989', 'CD'), ('.', '.')]\n"
     ]
    }
   ],
   "source": [
    "for i in range(len(sent)):\n",
    "    words = nltk.word_tokenize(sent[i])\n",
    "    words = [word for word in words if word not in set(stopwords.words('english'))]\n",
    "    # sent[i] = ' '.join(words)\n",
    "    pos_tag = nltk.pos_tag(words)\n",
    "    print(pos_tag)"
   ]
  },
  {
   "cell_type": "code",
   "execution_count": 10,
   "metadata": {},
   "outputs": [
    {
     "data": {
      "text/plain": [
       "[('taj', 'NN'),\n",
       " ('mahal', 'NN'),\n",
       " ('is', 'VBZ'),\n",
       " ('the', 'DT'),\n",
       " ('place', 'NN'),\n",
       " ('i', 'NN'),\n",
       " ('never', 'RB'),\n",
       " ('visited', 'VBD'),\n",
       " ('and', 'CC'),\n",
       " ('kabhi', 'VB'),\n",
       " ('mn', 'NN'),\n",
       " ('bhi', 'NN'),\n",
       " ('nhi', 'JJ'),\n",
       " ('krta', 'NN'),\n",
       " ('bs', 'NN'),\n",
       " ('pta', 'NN'),\n",
       " ('nhi', 'NN'),\n",
       " ('kiu.', 'NN')]"
      ]
     },
     "execution_count": 10,
     "metadata": {},
     "output_type": "execute_result"
    }
   ],
   "source": [
    "nltk.pos_tag(\"taj mahal is the place i never visited and kabhi mn bhi nhi krta bs pta nhi kiu.\".split())"
   ]
  },
  {
   "cell_type": "code",
   "execution_count": null,
   "metadata": {},
   "outputs": [],
   "source": []
  }
 ],
 "metadata": {
  "kernelspec": {
   "display_name": "Python 3",
   "language": "python",
   "name": "python3"
  },
  "language_info": {
   "codemirror_mode": {
    "name": "ipython",
    "version": 3
   },
   "file_extension": ".py",
   "mimetype": "text/x-python",
   "name": "python",
   "nbconvert_exporter": "python",
   "pygments_lexer": "ipython3",
   "version": "3.9.0"
  }
 },
 "nbformat": 4,
 "nbformat_minor": 2
}
