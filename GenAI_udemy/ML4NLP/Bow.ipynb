{
 "cells": [
  {
   "cell_type": "code",
   "execution_count": 1,
   "metadata": {},
   "outputs": [
    {
     "name": "stdout",
     "output_type": "stream",
     "text": [
      "Hello ji i have been in an issue i lost my udemy course. now trying to learn from open and sources\n"
     ]
    }
   ],
   "source": [
    "print('Hello ji i have been in an issue i lost my udemy course. now trying to learn from open and sources')"
   ]
  },
  {
   "cell_type": "markdown",
   "metadata": {},
   "source": [
    "# BoW (Bag of Words)\n",
    "\n",
    "###  \n",
    "\n",
    "Bag of Words is a simple and commonly used method to represent text data. It involves creating a vocabulary of all the unique words in a text corpus and then representing each document as a vector. Each element of this vector corresponds to the count of a particular word in the document."
   ]
  },
  {
   "cell_type": "code",
   "execution_count": 6,
   "metadata": {},
   "outputs": [
    {
     "name": "stdout",
     "output_type": "stream",
     "text": [
      "Collecting scikit-learn\n",
      "  Downloading scikit_learn-1.5.1-cp39-cp39-win_amd64.whl.metadata (12 kB)\n",
      "Requirement already satisfied: numpy>=1.19.5 in d:\\tanuj\\gdsc\\genai\\venv\\lib\\site-packages (from scikit-learn) (1.26.3)\n",
      "Collecting scipy>=1.6.0 (from scikit-learn)\n",
      "  Downloading scipy-1.13.1-cp39-cp39-win_amd64.whl.metadata (60 kB)\n",
      "     ---------------------------------------- 0.0/60.6 kB ? eta -:--:--\n",
      "     ---------------------------------------- 60.6/60.6 kB 3.1 MB/s eta 0:00:00\n",
      "Requirement already satisfied: joblib>=1.2.0 in d:\\tanuj\\gdsc\\genai\\venv\\lib\\site-packages (from scikit-learn) (1.4.2)\n",
      "Collecting threadpoolctl>=3.1.0 (from scikit-learn)\n",
      "  Downloading threadpoolctl-3.5.0-py3-none-any.whl.metadata (13 kB)\n",
      "Downloading scikit_learn-1.5.1-cp39-cp39-win_amd64.whl (11.0 MB)\n",
      "   ---------------------------------------- 0.0/11.0 MB ? eta -:--:--\n",
      "   - -------------------------------------- 0.3/11.0 MB 8.6 MB/s eta 0:00:02\n",
      "   -- ------------------------------------- 0.7/11.0 MB 11.9 MB/s eta 0:00:01\n",
      "   ------ --------------------------------- 1.7/11.0 MB 13.8 MB/s eta 0:00:01\n",
      "   --------- ------------------------------ 2.6/11.0 MB 12.6 MB/s eta 0:00:01\n",
      "   ------------ --------------------------- 3.5/11.0 MB 14.1 MB/s eta 0:00:01\n",
      "   --------------- ------------------------ 4.3/11.0 MB 13.2 MB/s eta 0:00:01\n",
      "   ------------------ --------------------- 5.2/11.0 MB 13.7 MB/s eta 0:00:01\n",
      "   ----------------------- ---------------- 6.5/11.0 MB 14.8 MB/s eta 0:00:01\n",
      "   -------------------------- ------------- 7.4/11.0 MB 14.8 MB/s eta 0:00:01\n",
      "   ----------------------------- ---------- 8.0/11.0 MB 15.1 MB/s eta 0:00:01\n",
      "   -------------------------------- ------- 9.0/11.0 MB 14.8 MB/s eta 0:00:01\n",
      "   ------------------------------------- -- 10.3/11.0 MB 16.0 MB/s eta 0:00:01\n",
      "   ---------------------------------------  11.0/11.0 MB 16.8 MB/s eta 0:00:01\n",
      "   ---------------------------------------  11.0/11.0 MB 16.8 MB/s eta 0:00:01\n",
      "   ---------------------------------------  11.0/11.0 MB 16.8 MB/s eta 0:00:01\n",
      "   ---------------------------------------  11.0/11.0 MB 16.8 MB/s eta 0:00:01\n",
      "   ---------------------------------------- 11.0/11.0 MB 12.3 MB/s eta 0:00:00\n",
      "Downloading scipy-1.13.1-cp39-cp39-win_amd64.whl (46.2 MB)\n",
      "   ---------------------------------------- 0.0/46.2 MB ? eta -:--:--\n",
      "   - -------------------------------------- 1.3/46.2 MB 27.7 MB/s eta 0:00:02\n",
      "   -- ------------------------------------- 2.6/46.2 MB 27.8 MB/s eta 0:00:02\n",
      "   --- ------------------------------------ 4.0/46.2 MB 25.3 MB/s eta 0:00:02\n",
      "   ---- ----------------------------------- 5.5/46.2 MB 25.2 MB/s eta 0:00:02\n",
      "   ------ --------------------------------- 7.3/46.2 MB 25.9 MB/s eta 0:00:02\n",
      "   ------- -------------------------------- 8.4/46.2 MB 24.4 MB/s eta 0:00:02\n",
      "   -------- ------------------------------- 10.1/46.2 MB 24.8 MB/s eta 0:00:02\n",
      "   --------- ------------------------------ 11.0/46.2 MB 23.4 MB/s eta 0:00:02\n",
      "   ---------- ----------------------------- 12.5/46.2 MB 22.6 MB/s eta 0:00:02\n",
      "   ----------- ---------------------------- 13.7/46.2 MB 22.6 MB/s eta 0:00:02\n",
      "   ------------ --------------------------- 14.9/46.2 MB 21.8 MB/s eta 0:00:02\n",
      "   ------------- -------------------------- 15.9/46.2 MB 21.8 MB/s eta 0:00:02\n",
      "   -------------- ------------------------- 17.2/46.2 MB 21.1 MB/s eta 0:00:02\n",
      "   --------------- ------------------------ 18.1/46.2 MB 19.8 MB/s eta 0:00:02\n",
      "   ----------------- ---------------------- 19.8/46.2 MB 20.5 MB/s eta 0:00:02\n",
      "   ------------------ --------------------- 21.5/46.2 MB 22.6 MB/s eta 0:00:02\n",
      "   -------------------- ------------------- 23.6/46.2 MB 25.2 MB/s eta 0:00:01\n",
      "   ---------------------- ----------------- 26.6/46.2 MB 32.8 MB/s eta 0:00:01\n",
      "   ------------------------ --------------- 28.6/46.2 MB 40.9 MB/s eta 0:00:01\n",
      "   ---------------------------- ----------- 32.6/46.2 MB 50.4 MB/s eta 0:00:01\n",
      "   ------------------------------ --------- 35.4/46.2 MB 59.5 MB/s eta 0:00:01\n",
      "   ---------------------------------- ----- 39.4/46.2 MB 81.8 MB/s eta 0:00:01\n",
      "   ----------------------------------- ---- 41.1/46.2 MB 65.6 MB/s eta 0:00:01\n",
      "   -------------------------------------- - 44.9/46.2 MB 65.2 MB/s eta 0:00:01\n",
      "   ---------------------------------------  46.2/46.2 MB 65.6 MB/s eta 0:00:01\n",
      "   ---------------------------------------  46.2/46.2 MB 65.6 MB/s eta 0:00:01\n",
      "   ---------------------------------------  46.2/46.2 MB 65.6 MB/s eta 0:00:01\n",
      "   ---------------------------------------  46.2/46.2 MB 65.6 MB/s eta 0:00:01\n",
      "   ---------------------------------------  46.2/46.2 MB 65.6 MB/s eta 0:00:01\n",
      "   ---------------------------------------  46.2/46.2 MB 65.6 MB/s eta 0:00:01\n",
      "   ---------------------------------------  46.2/46.2 MB 65.6 MB/s eta 0:00:01\n",
      "   ---------------------------------------- 46.2/46.2 MB 19.8 MB/s eta 0:00:00\n",
      "Downloading threadpoolctl-3.5.0-py3-none-any.whl (18 kB)\n",
      "Installing collected packages: threadpoolctl, scipy, scikit-learn\n",
      "Successfully installed scikit-learn-1.5.1 scipy-1.13.1 threadpoolctl-3.5.0\n"
     ]
    }
   ],
   "source": [
    "!pip install scikit-learn"
   ]
  },
  {
   "cell_type": "code",
   "execution_count": 7,
   "metadata": {},
   "outputs": [],
   "source": [
    "from sklearn.feature_extraction.text import CountVectorizer"
   ]
  },
  {
   "cell_type": "code",
   "execution_count": 8,
   "metadata": {},
   "outputs": [],
   "source": [
    "doc=[\n",
    "    'I love to program in python but i m swaping it with java',\n",
    "    'even it is working i am getting comfortable with it.',\n",
    "    \"still my love language is python only😂\"\n",
    "]"
   ]
  },
  {
   "cell_type": "code",
   "execution_count": 9,
   "metadata": {},
   "outputs": [
    {
     "data": {
      "text/plain": [
       "['I love to program in python but i m swaping it with java',\n",
       " 'even it is working i am getting comfortable with it.',\n",
       " 'still my love language is python only😂']"
      ]
     },
     "execution_count": 9,
     "metadata": {},
     "output_type": "execute_result"
    }
   ],
   "source": [
    "doc"
   ]
  },
  {
   "cell_type": "code",
   "execution_count": 10,
   "metadata": {},
   "outputs": [],
   "source": [
    "vectorizer = CountVectorizer()"
   ]
  },
  {
   "cell_type": "code",
   "execution_count": 11,
   "metadata": {},
   "outputs": [],
   "source": [
    "bow_matrix=vectorizer.fit_transform(doc)\n"
   ]
  },
  {
   "cell_type": "code",
   "execution_count": 12,
   "metadata": {},
   "outputs": [],
   "source": [
    "bow_array = bow_matrix.toarray()"
   ]
  },
  {
   "cell_type": "code",
   "execution_count": 13,
   "metadata": {},
   "outputs": [],
   "source": [
    "feature_names = vectorizer.get_feature_names_out()"
   ]
  },
  {
   "cell_type": "code",
   "execution_count": 15,
   "metadata": {},
   "outputs": [
    {
     "name": "stdout",
     "output_type": "stream",
     "text": [
      "Feature_name ::  ['am' 'but' 'comfortable' 'even' 'getting' 'in' 'is' 'it' 'java'\n",
      " 'language' 'love' 'my' 'only' 'program' 'python' 'still' 'swaping' 'to'\n",
      " 'with' 'working']\n",
      "BoW Matrix :: \n",
      "[[0 1 0 0 0 1 0 1 1 0 1 0 0 1 1 0 1 1 1 0]\n",
      " [1 0 1 1 1 0 1 2 0 0 0 0 0 0 0 0 0 0 1 1]\n",
      " [0 0 0 0 0 0 1 0 0 1 1 1 1 0 1 1 0 0 0 0]]\n"
     ]
    }
   ],
   "source": [
    "print(\"Feature_name :: \",feature_names)\n",
    "print('BoW Matrix :: ')\n",
    "print(bow_array)"
   ]
  },
  {
   "cell_type": "markdown",
   "metadata": {},
   "source": [
    "# TF-IDF (Term Frequency -Inverse Document frequency)\n",
    "\n",
    "TF-IDF is a more sophisticated approach that reflects the importance of a word in a document relative to a collection of documents (corpus). It assigns a higher weight to words that are frequent in a document but not too common in the entire corpus.\n",
    "\n",
    "Term Frequency (TF): Measures how frequently a term appears in a document.\n",
    "\n",
    "Inverse Document Frequency (IDF): Measures how important a term is by reducing the weight of words that  appear in many documents."
   ]
  },
  {
   "cell_type": "code",
   "execution_count": 16,
   "metadata": {},
   "outputs": [],
   "source": [
    "from sklearn.feature_extraction.text import TfidfVectorizer"
   ]
  },
  {
   "cell_type": "code",
   "execution_count": 17,
   "metadata": {},
   "outputs": [],
   "source": [
    "tfidfvectorizer = TfidfVectorizer()"
   ]
  },
  {
   "cell_type": "code",
   "execution_count": 18,
   "metadata": {},
   "outputs": [],
   "source": [
    "tfidf_matrix = tfidfvectorizer.fit_transform(doc)\n"
   ]
  },
  {
   "cell_type": "code",
   "execution_count": 19,
   "metadata": {},
   "outputs": [],
   "source": [
    "tfidf_array = tfidf_matrix.toarray()"
   ]
  },
  {
   "cell_type": "code",
   "execution_count": 20,
   "metadata": {},
   "outputs": [],
   "source": [
    "feature_names = tfidfvectorizer.get_feature_names_out()"
   ]
  },
  {
   "cell_type": "code",
   "execution_count": 21,
   "metadata": {},
   "outputs": [
    {
     "name": "stdout",
     "output_type": "stream",
     "text": [
      "Feature Names: ['am' 'but' 'comfortable' 'even' 'getting' 'in' 'is' 'it' 'java'\n",
      " 'language' 'love' 'my' 'only' 'program' 'python' 'still' 'swaping' 'to'\n",
      " 'with' 'working']\n",
      "TF-IDF Matrix:\n",
      " [[0.         0.34682109 0.         0.         0.         0.34682109\n",
      "  0.         0.26376638 0.34682109 0.         0.26376638 0.\n",
      "  0.         0.34682109 0.26376638 0.         0.34682109 0.34682109\n",
      "  0.26376638 0.        ]\n",
      " [0.34359602 0.         0.34359602 0.34359602 0.34359602 0.\n",
      "  0.26131363 0.52262726 0.         0.         0.         0.\n",
      "  0.         0.         0.         0.         0.         0.\n",
      "  0.26131363 0.34359602]\n",
      " [0.         0.         0.         0.         0.         0.\n",
      "  0.31757018 0.         0.         0.41756662 0.31757018 0.41756662\n",
      "  0.41756662 0.         0.31757018 0.41756662 0.         0.\n",
      "  0.         0.        ]]\n"
     ]
    }
   ],
   "source": [
    "print(\"Feature Names:\", feature_names)\n",
    "print(\"TF-IDF Matrix:\\n\", tfidf_array)"
   ]
  },
  {
   "cell_type": "code",
   "execution_count": null,
   "metadata": {},
   "outputs": [],
   "source": []
  }
 ],
 "metadata": {
  "kernelspec": {
   "display_name": "Python 3",
   "language": "python",
   "name": "python3"
  },
  "language_info": {
   "codemirror_mode": {
    "name": "ipython",
    "version": 3
   },
   "file_extension": ".py",
   "mimetype": "text/x-python",
   "name": "python",
   "nbconvert_exporter": "python",
   "pygments_lexer": "ipython3",
   "version": "3.9.0"
  }
 },
 "nbformat": 4,
 "nbformat_minor": 2
}
